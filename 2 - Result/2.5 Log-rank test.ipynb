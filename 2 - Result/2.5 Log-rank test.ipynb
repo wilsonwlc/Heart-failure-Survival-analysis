{
 "cells": [
  {
   "cell_type": "markdown",
   "metadata": {},
   "source": [
    "## Log rank test"
   ]
  },
  {
   "cell_type": "code",
   "execution_count": 11,
   "metadata": {
    "vscode": {
     "languageId": "r"
    }
   },
   "outputs": [],
   "source": [
    "library(dplyr)\n",
    "library(survival)"
   ]
  },
  {
   "cell_type": "code",
   "execution_count": 12,
   "metadata": {
    "vscode": {
     "languageId": "r"
    }
   },
   "outputs": [],
   "source": [
    "df1 <- read.csv(\"./data/df1.csv\")\n",
    "level_age_gp <- c(\"<55 years\", \"55-64 years\", \"65-74 years\", \">=75 years\")\n",
    "level_ef_gp <- c(\"<40%\", \"40-49%\", \"50-74%\", \">=75%\")\n",
    "level_ef_paper <- c(\"<=30%\", \"31-45%\", \">45%\")\n",
    "level_sodium_gp <- c(\"<135mmol/L\", \"135-145mmol/L\", \">145mmol/L\")\n",
    "level_platelets_gp <- c(\"Thrombocytopenia\", \"Normal\", \"Thrombocytosis\")\n",
    "level_platelets_paper <- c(\"<=Q1\", \"Q1-Q3\", \">=Q3\")\n",
    "\n",
    "df1 <- df1 %>%\n",
    "  mutate_at(vars(gender, smoking, diabetes, bp, anaemia), factor) %>%\n",
    "  mutate(\n",
    "    age_gp = factor(age_gp, levels = level_age_gp, ordered = TRUE),\n",
    "    ef_gp = factor(ef_gp, levels = level_ef_gp, ordered = TRUE),\n",
    "    ef_paper = factor(ef_paper, levels = level_ef_paper, ordered = TRUE),\n",
    "    sodium_gp = factor(sodium_gp, levels = level_sodium_gp, ordered = TRUE),\n",
    "    platelets_gp = factor(platelets_gp, levels = level_platelets_gp, ordered = TRUE),\n",
    "    platelets_paper = factor(platelets_paper, levels = level_platelets_paper, ordered = TRUE),\n",
    "    creatinine_excess = factor(creatinine_excess),\n",
    "    creatinine_paper = factor(creatinine_paper),\n",
    "    cpk_excess = factor(cpk_excess)\n",
    "  )"
   ]
  },
  {
   "cell_type": "code",
   "execution_count": 9,
   "metadata": {
    "vscode": {
     "languageId": "r"
    }
   },
   "outputs": [],
   "source": [
    "variables <- c(\"gender\", \"smoking\", \"diabetes\", \"bp\", \"anaemia\", \"age_gp\", \"ef_gp\", \"sodium_gp\", \"creatinine_excess\", \"platelets_gp\", \"cpk_excess\")"
   ]
  },
  {
   "cell_type": "code",
   "execution_count": 10,
   "metadata": {
    "vscode": {
     "languageId": "r"
    }
   },
   "outputs": [
    {
     "data": {
      "text/html": [
       "<table class=\"dataframe\">\n",
       "<caption>A data.frame: 11 x 3</caption>\n",
       "<thead>\n",
       "\t<tr><th scope=col>variable</th><th scope=col>p_value</th><th scope=col>significant</th></tr>\n",
       "\t<tr><th scope=col>&lt;chr&gt;</th><th scope=col>&lt;chr&gt;</th><th scope=col>&lt;lgl&gt;</th></tr>\n",
       "</thead>\n",
       "<tbody>\n",
       "\t<tr><td>gender           </td><td>0.8525</td><td>FALSE</td></tr>\n",
       "\t<tr><td>smoking          </td><td>0.9741</td><td>FALSE</td></tr>\n",
       "\t<tr><td>diabetes         </td><td>0.7150</td><td>FALSE</td></tr>\n",
       "\t<tr><td>bp               </td><td>0.0255</td><td> TRUE</td></tr>\n",
       "\t<tr><td>anaemia          </td><td>0.0943</td><td>FALSE</td></tr>\n",
       "\t<tr><td>age_gp           </td><td>0.0000</td><td> TRUE</td></tr>\n",
       "\t<tr><td>ef_gp            </td><td>0.0052</td><td> TRUE</td></tr>\n",
       "\t<tr><td>sodium_gp        </td><td>0.0001</td><td> TRUE</td></tr>\n",
       "\t<tr><td>creatinine_excess</td><td>0.0000</td><td> TRUE</td></tr>\n",
       "\t<tr><td>platelets_gp     </td><td>0.7131</td><td>FALSE</td></tr>\n",
       "\t<tr><td>cpk_excess       </td><td>0.3284</td><td>FALSE</td></tr>\n",
       "</tbody>\n",
       "</table>\n"
      ],
      "text/latex": [
       "A data.frame: 11 x 3\n",
       "\\begin{tabular}{lll}\n",
       " variable & p\\_value & significant\\\\\n",
       " <chr> & <chr> & <lgl>\\\\\n",
       "\\hline\n",
       "\t gender            & 0.8525 & FALSE\\\\\n",
       "\t smoking           & 0.9741 & FALSE\\\\\n",
       "\t diabetes          & 0.7150 & FALSE\\\\\n",
       "\t bp                & 0.0255 &  TRUE\\\\\n",
       "\t anaemia           & 0.0943 & FALSE\\\\\n",
       "\t age\\_gp            & 0.0000 &  TRUE\\\\\n",
       "\t ef\\_gp             & 0.0052 &  TRUE\\\\\n",
       "\t sodium\\_gp         & 0.0001 &  TRUE\\\\\n",
       "\t creatinine\\_excess & 0.0000 &  TRUE\\\\\n",
       "\t platelets\\_gp      & 0.7131 & FALSE\\\\\n",
       "\t cpk\\_excess        & 0.3284 & FALSE\\\\\n",
       "\\end{tabular}\n"
      ],
      "text/markdown": [
       "\n",
       "A data.frame: 11 x 3\n",
       "\n",
       "| variable &lt;chr&gt; | p_value &lt;chr&gt; | significant &lt;lgl&gt; |\n",
       "|---|---|---|\n",
       "| gender            | 0.8525 | FALSE |\n",
       "| smoking           | 0.9741 | FALSE |\n",
       "| diabetes          | 0.7150 | FALSE |\n",
       "| bp                | 0.0255 |  TRUE |\n",
       "| anaemia           | 0.0943 | FALSE |\n",
       "| age_gp            | 0.0000 |  TRUE |\n",
       "| ef_gp             | 0.0052 |  TRUE |\n",
       "| sodium_gp         | 0.0001 |  TRUE |\n",
       "| creatinine_excess | 0.0000 |  TRUE |\n",
       "| platelets_gp      | 0.7131 | FALSE |\n",
       "| cpk_excess        | 0.3284 | FALSE |\n",
       "\n"
      ],
      "text/plain": [
       "   variable          p_value significant\n",
       "1  gender            0.8525  FALSE      \n",
       "2  smoking           0.9741  FALSE      \n",
       "3  diabetes          0.7150  FALSE      \n",
       "4  bp                0.0255   TRUE      \n",
       "5  anaemia           0.0943  FALSE      \n",
       "6  age_gp            0.0000   TRUE      \n",
       "7  ef_gp             0.0052   TRUE      \n",
       "8  sodium_gp         0.0001   TRUE      \n",
       "9  creatinine_excess 0.0000   TRUE      \n",
       "10 platelets_gp      0.7131  FALSE      \n",
       "11 cpk_excess        0.3284  FALSE      "
      ]
     },
     "metadata": {},
     "output_type": "display_data"
    }
   ],
   "source": [
    "p_value <- NULL\n",
    "for (var in variables) {\n",
    "    lrt <- survdiff(as.formula(paste(\"Surv(time, event) ~\", var)), na.omit(df1), subset = NULL, na.action=NULL)\n",
    "    p_value <- c(p_value, lrt$pvalue)\n",
    "}\n",
    "data.frame(variable = variables, p_value = sprintf(\"%.4f\", p_value)) %>%\n",
    "  mutate(significant = (p_value < 0.05))"
   ]
  },
  {
   "cell_type": "markdown",
   "metadata": {},
   "source": [
    "* Excess creatinine (p < 0.0001), Sodium (p = 0.0001),  Ejection fraction (p = 0.0052), and Blood pressure (p = 0.0255) show statistically significant results. These findings align with the trends observed in the Kaplan–Meier curves.\n",
    "* Anaemia (p = 0.0943) and excess CPK levels (p = 0.3284) do not demonstrate statistical significance in the log-rank test although the Kaplan–Meier curves indicate they may still be important predictors.\n",
    "* Age group are statistically significant (p < 0.0001), likely due to the notably lower survival probability among individuals aged 75 and above."
   ]
  }
 ],
 "metadata": {
  "kernelspec": {
   "display_name": "R",
   "language": "R",
   "name": "ir"
  },
  "language_info": {
   "codemirror_mode": "r",
   "file_extension": ".r",
   "mimetype": "text/x-r-source",
   "name": "R",
   "pygments_lexer": "r",
   "version": "4.3.1"
  }
 },
 "nbformat": 4,
 "nbformat_minor": 2
}
