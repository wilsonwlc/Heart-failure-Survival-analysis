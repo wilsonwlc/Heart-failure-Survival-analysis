{
 "cells": [
  {
   "cell_type": "markdown",
   "metadata": {
    "vscode": {
     "languageId": "plaintext"
    }
   },
   "source": [
    "## Data exploration"
   ]
  },
  {
   "cell_type": "code",
   "execution_count": 85,
   "metadata": {
    "vscode": {
     "languageId": "r"
    }
   },
   "outputs": [],
   "source": [
    "library(dplyr)\n",
    "library(tidyr)\n",
    "library(ggplot2)\n",
    "library(gridExtra)"
   ]
  },
  {
   "cell_type": "code",
   "execution_count": 86,
   "metadata": {
    "vscode": {
     "languageId": "r"
    }
   },
   "outputs": [],
   "source": [
    "plot_distribution <- function(dataframe, var_name, title, n_bins) {\n",
    "  plot <- ggplot(dataframe, aes(x = get(var_name))) + \n",
    "  geom_histogram(aes(y = after_stat(density)), bins = n_bins, colour=\"black\") + \n",
    "  labs(x = title) +\n",
    "  geom_density(colour=\"red\", linewidth = 1.3) + \n",
    "  theme(axis.text = element_text(size = 16),\n",
    "  axis.title.y = element_blank(), \n",
    "  axis.title.x = element_text(size = 20))\n",
    "  return(plot)\n",
    "}"
   ]
  },
  {
   "cell_type": "code",
   "execution_count": 87,
   "metadata": {
    "vscode": {
     "languageId": "r"
    }
   },
   "outputs": [],
   "source": [
    "df0 <- read.csv(\"./data/S1Data.csv\")\n",
    "df0 <- df0 %>%\n",
    "  rename_with(tolower) %>% \n",
    "  rename(platelets = pletelets) %>%\n",
    "  mutate_at(vars(gender, smoking, diabetes, bp, anaemia), factor)"
   ]
  },
  {
   "cell_type": "markdown",
   "metadata": {
    "vscode": {
     "languageId": "r"
    }
   },
   "source": [
    "### Discrete variables "
   ]
  },
  {
   "cell_type": "code",
   "execution_count": 88,
   "metadata": {
    "vscode": {
     "languageId": "r"
    }
   },
   "outputs": [],
   "source": [
    "variables <- c(\"gender\", \"smoking\", \"diabetes\", \"bp\", \"anaemia\")"
   ]
  },
  {
   "cell_type": "markdown",
   "metadata": {},
   "source": [
    "#### Cross-tab"
   ]
  },
  {
   "cell_type": "code",
   "execution_count": 89,
   "metadata": {
    "vscode": {
     "languageId": "r"
    }
   },
   "outputs": [
    {
     "name": "stdout",
     "output_type": "stream",
     "text": [
      "        var level number_censored number_death percent_censored percent_death\n",
      "1    gender     0              71           34            67.62         32.38\n",
      "2    gender     1             132           62            68.04         31.96\n",
      "3   smoking     0             137           66            67.49         32.51\n",
      "4   smoking     1              66           30            68.75         31.25\n",
      "5  diabetes     0             118           56            67.82         32.18\n",
      "6  diabetes     1              85           40            68.00         32.00\n",
      "7        bp     0             137           57            70.62         29.38\n",
      "8        bp     1              66           39            62.86         37.14\n",
      "9   anaemia     0             120           50            70.59         29.41\n",
      "10  anaemia     1              83           46            64.34         35.66\n"
     ]
    }
   ],
   "source": [
    "result <- lapply(variables, function(var) {\n",
    "  breakdown <- as.data.frame(table(df0[[var]], df0[[\"event\"]])) %>%\n",
    "    pivot_wider(names_from = \"Var2\", values_from = \"Freq\")\n",
    "  cbind(var, breakdown)\n",
    "})\n",
    "df <- do.call(rbind, result)\n",
    "df <- as.data.frame(df) %>%\n",
    "rename(\"level\" = \"Var1\", \"number_censored\" = \"0\", \"number_death\" = \"1\") %>%\n",
    "mutate(\n",
    "  percent_censored = round(number_censored / (number_censored + number_death) * 100, 2),percent_death = round(number_death / (number_censored + number_death) * 100, 2))\n",
    "print(df)"
   ]
  },
  {
   "cell_type": "code",
   "execution_count": 90,
   "metadata": {
    "vscode": {
     "languageId": "r"
    }
   },
   "outputs": [
    {
     "name": "stdout",
     "output_type": "stream",
     "text": [
      "  Variable   P_value Significant\n",
      "1   gender 0.9405034       FALSE\n",
      "2  smoking 0.8272151       FALSE\n",
      "3 diabetes 0.9731996       FALSE\n",
      "4       bp 0.1700298       FALSE\n",
      "5  anaemia 0.2518294       FALSE\n"
     ]
    }
   ],
   "source": [
    "result <- lapply(variables, function(var) {\n",
    "    contingency_table <- table(df0[[var]], df0$event)\n",
    "    test_result <- chisq.test(contingency_table, correct = FALSE)\n",
    "    list(\n",
    "    Variable = var,\n",
    "    P_value = test_result$p.value,\n",
    "    Significant = test_result$p.value < 0.05\n",
    "  )\n",
    "})\n",
    "df <- do.call(rbind, lapply(result, as.data.frame))\n",
    "print(df)"
   ]
  },
  {
   "cell_type": "markdown",
   "metadata": {},
   "source": [
    "* `gender`, `smoking`, `diabetes`,`bp` and `anaemia` do not show a slight difference"
   ]
  },
  {
   "cell_type": "markdown",
   "metadata": {},
   "source": [
    "### Continuous variables"
   ]
  },
  {
   "cell_type": "code",
   "execution_count": 91,
   "metadata": {
    "vscode": {
     "languageId": "r"
    }
   },
   "outputs": [],
   "source": [
    "variables <- c(\"creatinine\", \"sodium\", \"cpk\", \"age\", \"platelets\", \"ejection.fraction\")"
   ]
  },
  {
   "cell_type": "markdown",
   "metadata": {},
   "source": [
    "#### Summary statistics"
   ]
  },
  {
   "cell_type": "code",
   "execution_count": 92,
   "metadata": {
    "vscode": {
     "languageId": "r"
    }
   },
   "outputs": [
    {
     "data": {
      "text/plain": [
       "      time         creatinine        sodium           cpk        \n",
       " Min.   :  4.0   Min.   :0.500   Min.   :113.0   Min.   :  23.0  \n",
       " 1st Qu.: 73.0   1st Qu.:0.900   1st Qu.:134.0   1st Qu.: 116.5  \n",
       " Median :115.0   Median :1.100   Median :137.0   Median : 250.0  \n",
       " Mean   :130.3   Mean   :1.394   Mean   :136.6   Mean   : 581.8  \n",
       " 3rd Qu.:203.0   3rd Qu.:1.400   3rd Qu.:140.0   3rd Qu.: 582.0  \n",
       " Max.   :285.0   Max.   :9.400   Max.   :148.0   Max.   :7861.0  \n",
       "      age          platelets      ejection.fraction\n",
       " Min.   :40.00   Min.   : 25100   Min.   :14.00    \n",
       " 1st Qu.:51.00   1st Qu.:212500   1st Qu.:30.00    \n",
       " Median :60.00   Median :262000   Median :38.00    \n",
       " Mean   :60.83   Mean   :263358   Mean   :38.08    \n",
       " 3rd Qu.:70.00   3rd Qu.:303500   3rd Qu.:45.00    \n",
       " Max.   :95.00   Max.   :850000   Max.   :80.00    "
      ]
     },
     "metadata": {},
     "output_type": "display_data"
    }
   ],
   "source": [
    "summary(df0[, c(\"time\", variables)])"
   ]
  },
  {
   "cell_type": "code",
   "execution_count": 84,
   "metadata": {
    "vscode": {
     "languageId": "r"
    }
   },
   "outputs": [
    {
     "name": "stdout",
     "output_type": "stream",
     "text": [
      "          variables mean_event0 mean_event1 p_value significant\n",
      "1        creatinine        1.18        1.84  0.0001        TRUE\n",
      "2            sodium      137.22      135.38  0.0019        TRUE\n",
      "3               cpk      540.05      670.20  0.3692       FALSE\n",
      "4               age       58.76       65.22  0.0000        TRUE\n",
      "5         platelets   266657.49   256381.04  0.3993       FALSE\n",
      "6 ejection.fraction       40.27       33.47  0.0000        TRUE\n"
     ]
    }
   ],
   "source": [
    "result <- lapply(variables, function(var) {\n",
    "  test <- t.test(df0[[var]] ~ event, data = df0)\n",
    "  data.frame(\n",
    "    variables = var,\n",
    "    mean_event0 = round(test$estimate[1], 2),  \n",
    "    mean_event1 = round(test$estimate[2 ], 2),  \n",
    "    p_value = round(test$p.value, 4), \n",
    "    significant = test$p.value < 0.05\n",
    "  )\n",
    "})\n",
    "df <- do.call(rbind, result)\n",
    "row.names(df) <- NULL\n",
    "print(df)"
   ]
  },
  {
   "cell_type": "markdown",
   "metadata": {},
   "source": [
    "* `cpk`, `platelets` show little difference in mean values between deceased and censored patients\n",
    "* `creatinine`, `sodium`, `age` , `ejection.fraction` exhibit a difference in mean values"
   ]
  }
 ],
 "metadata": {
  "kernelspec": {
   "display_name": "R",
   "language": "R",
   "name": "ir"
  },
  "language_info": {
   "codemirror_mode": "r",
   "file_extension": ".r",
   "mimetype": "text/x-r-source",
   "name": "R",
   "pygments_lexer": "r",
   "version": "4.3.1"
  }
 },
 "nbformat": 4,
 "nbformat_minor": 2
}
